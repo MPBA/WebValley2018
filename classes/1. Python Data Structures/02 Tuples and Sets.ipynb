{
 "cells": [
  {
   "cell_type": "markdown",
   "metadata": {},
   "source": [
    "<a name=\"top\"></a> Contents\n",
    "===\n",
    "\n",
    "- [Overview of Built-in Sequences](#sequences)\n",
    "- [Tuples](#tuples)\n",
    "    - [Defining tuples, and accessing elements](#defining_tuples)\n",
    "    - [Using tuples to make strings](#tuples_strings)\n",
    "    - [Exercises](#exercises_tuples)\n",
    "- [Sets](#sets)\n",
    "    - [Basic Operatoins on Sets](#set_operations)\n",
    "    - [Exercises](#exercise_set)\n"
   ]
  },
  {
   "cell_type": "markdown",
   "metadata": {},
   "source": [
    "<a name='sequences'></a>Overview of Built-in Sequences\n",
    "===\n",
    "\n"
   ]
  },
  {
   "cell_type": "markdown",
   "metadata": {},
   "source": [
    "The standard library offers a rich selection of sequence types implemented in C:\n",
    "\n",
    "- _Container sequences_ : `list`, `tuple`, and `collections.deque` can hold items of different types. \n",
    "\n",
    "- _Flat sequences_ : `str`, `bytes`, `bytearray`, `memoryview`, and `array.array` hold items of one type.\n",
    "\n",
    "**Container sequences** hold references to the objects they contain, which may be of any type, while **flat sequences** physically store the value of each item within its own memory space, and not as distinct objects. \n",
    "\n",
    "Thus, flat sequences are more compact, but they are limited to holding primitive values like characters, bytes, and numbers.\n",
    "\n",
    "Another way of grouping sequence types is by **mutability**:\n",
    "\n",
    "- _Mutable sequences_: `list`, `bytearray`, `array.array`, `collections.deque`, and `memoryview` \n",
    "\n",
    "- _Immutable sequences_: `tuple`, `str`, and `bytes`"
   ]
  },
  {
   "cell_type": "markdown",
   "metadata": {},
   "source": [
    "<img src=\"imgs/collections_uml.png\" width=\"60%\" />\n",
    "\n",
    "From the book \"Fluent Python\" by Luciano Ramalho (O'Reilly, 2015)"
   ]
  },
  {
   "cell_type": "markdown",
   "metadata": {
    "slideshow": {
     "slide_type": "slide"
    }
   },
   "source": [
    "<a name='tuples'></a>Tuples\n",
    "===\n",
    "\n",
    "#### _Tuples as Immutable Lists_\n",
    "\n",
    "Tuples are basically lists that can never be changed. Lists are quite dynamic; they can grow as you append and insert items, and they can shrink as you remove items. You can modify any element you want to in a list. Sometimes we like this behavior, but other times we may want to ensure that no user or no part of a program can change a list. That's what tuples are for.\n",
    "\n",
    "Technically, lists are *mutable* objects and tuples are *immutable* objects. Mutable objects can change (think of *mutations*), and immutable objects can not change."
   ]
  },
  {
   "cell_type": "markdown",
   "metadata": {
    "slideshow": {
     "slide_type": "subslide"
    }
   },
   "source": [
    "<a name='defining_tuples'></a>Defining tuples, and accessing elements\n",
    "---\n",
    "\n",
    "You define a tuple just like you define a list, except you use parentheses instead of square brackets. Once you have a tuple, you can access individual elements just like you can with a list, and you can loop through the tuple with a *for* loop:"
   ]
  },
  {
   "cell_type": "code",
   "execution_count": 4,
   "metadata": {
    "collapsed": true,
    "slideshow": {
     "slide_type": "fragment"
    }
   },
   "outputs": [
    {
     "name": "stdout",
     "output_type": "stream",
     "text": [
      "The first color is: red\n",
      "\n",
      "The available colors are:\n",
      "- red\n",
      "- green\n",
      "- blue\n"
     ]
    }
   ],
   "source": [
    "colors = ('red', 'green', 'blue')\n",
    "print(\"The first color is: \" + colors[0])\n",
    "\n",
    "print(\"\\nThe available colors are:\")\n",
    "for color in colors:\n",
    "    print(\"- \" + color)"
   ]
  },
  {
   "cell_type": "markdown",
   "metadata": {
    "slideshow": {
     "slide_type": "subslide"
    }
   },
   "source": [
    "If you try to add something to a tuple, you will get an error:"
   ]
  },
  {
   "cell_type": "code",
   "execution_count": 5,
   "metadata": {
    "collapsed": true,
    "slideshow": {
     "slide_type": "fragment"
    }
   },
   "outputs": [
    {
     "ename": "AttributeError",
     "evalue": "'tuple' object has no attribute 'append'",
     "output_type": "error",
     "traceback": [
      "\u001b[0;31m---------------------------------------------------------------------------\u001b[0m",
      "\u001b[0;31mAttributeError\u001b[0m                            Traceback (most recent call last)",
      "\u001b[0;32m<ipython-input-5-ed1dbff53ab2>\u001b[0m in \u001b[0;36m<module>\u001b[0;34m()\u001b[0m\n\u001b[1;32m      1\u001b[0m \u001b[0mcolors\u001b[0m \u001b[0;34m=\u001b[0m \u001b[0;34m(\u001b[0m\u001b[0;34m'red'\u001b[0m\u001b[0;34m,\u001b[0m \u001b[0;34m'green'\u001b[0m\u001b[0;34m,\u001b[0m \u001b[0;34m'blue'\u001b[0m\u001b[0;34m)\u001b[0m\u001b[0;34m\u001b[0m\u001b[0m\n\u001b[0;32m----> 2\u001b[0;31m \u001b[0mcolors\u001b[0m\u001b[0;34m.\u001b[0m\u001b[0mappend\u001b[0m\u001b[0;34m(\u001b[0m\u001b[0;34m'purple'\u001b[0m\u001b[0;34m)\u001b[0m\u001b[0;34m\u001b[0m\u001b[0m\n\u001b[0m",
      "\u001b[0;31mAttributeError\u001b[0m: 'tuple' object has no attribute 'append'"
     ]
    }
   ],
   "source": [
    "colors = ('red', 'green', 'blue')\n",
    "colors.append('purple')"
   ]
  },
  {
   "cell_type": "markdown",
   "metadata": {
    "slideshow": {
     "slide_type": "fragment"
    }
   },
   "source": [
    "The same kind of thing happens when you try to remove something from a tuple, or modify one of its elements. Once you define a tuple, you can be confident that its values will not change."
   ]
  },
  {
   "cell_type": "markdown",
   "metadata": {
    "slideshow": {
     "slide_type": "subslide"
    }
   },
   "source": [
    "<a name='tuples_strings'></a>Using tuples to format strings\n",
    "---\n",
    "We have seen that it is pretty useful to be able to mix raw English strings with values that are stored in variables, as in the following:"
   ]
  },
  {
   "cell_type": "code",
   "execution_count": 31,
   "metadata": {
    "collapsed": true,
    "slideshow": {
     "slide_type": "fragment"
    }
   },
   "outputs": [
    {
     "name": "stdout",
     "output_type": "stream",
     "text": [
      "I have a dog.\n"
     ]
    }
   ],
   "source": [
    "animal = 'dog'\n",
    "print(\"I have a \" + animal + \".\")"
   ]
  },
  {
   "cell_type": "markdown",
   "metadata": {
    "slideshow": {
     "slide_type": "subslide"
    }
   },
   "source": [
    "This was especially useful when we had a series of similar statements to make:"
   ]
  },
  {
   "cell_type": "code",
   "execution_count": 32,
   "metadata": {
    "collapsed": true,
    "slideshow": {
     "slide_type": "fragment"
    }
   },
   "outputs": [
    {
     "name": "stdout",
     "output_type": "stream",
     "text": [
      "I have a dog.\n",
      "I have a cat.\n",
      "I have a bear.\n"
     ]
    }
   ],
   "source": [
    "animals = ['dog', 'cat', 'bear']\n",
    "for animal in animals:\n",
    "    print(\"I have a \" + animal + \".\")"
   ]
  },
  {
   "cell_type": "markdown",
   "metadata": {
    "slideshow": {
     "slide_type": "subslide"
    }
   },
   "source": [
    "I like this approach of using the plus sign to build strings because it is fairly intuitive. We can see that we are adding several smaller strings together to make one longer string. This is intuitive, but it is a lot of typing. There is a shorter way to do this, using *placeholders*.\n",
    "\n",
    "Python ignores most of the characters we put inside of strings. There are a few characters that Python pays attention to, as we saw with strings such as \"\\t\" and \"\\n\". Python also pays attention to \"%s\" and \"%d\". These are placeholders. When Python sees the \"%s\" placeholder, it looks ahead and pulls in the first argument after the % sign:"
   ]
  },
  {
   "cell_type": "code",
   "execution_count": 33,
   "metadata": {
    "collapsed": true,
    "slideshow": {
     "slide_type": "fragment"
    }
   },
   "outputs": [
    {
     "name": "stdout",
     "output_type": "stream",
     "text": [
      "I have a dog.\n"
     ]
    }
   ],
   "source": [
    "animal = 'dog'\n",
    "print(\"I have a %s.\" % animal)"
   ]
  },
  {
   "cell_type": "markdown",
   "metadata": {
    "slideshow": {
     "slide_type": "fragment"
    }
   },
   "source": [
    "This is a much cleaner way of generating strings that include values. We compose our sentence all in one string, and then tell Python what values to pull into the string, in the appropriate places.\n",
    "\n",
    "This is called *string formatting*, and it looks the same when you use a list:"
   ]
  },
  {
   "cell_type": "code",
   "execution_count": 34,
   "metadata": {
    "collapsed": true,
    "slideshow": {
     "slide_type": "fragment"
    }
   },
   "outputs": [
    {
     "name": "stdout",
     "output_type": "stream",
     "text": [
      "I have a dog.\n",
      "I have a cat.\n",
      "I have a bear.\n"
     ]
    }
   ],
   "source": [
    "animals = ['dog', 'cat', 'bear']\n",
    "for animal in animals:\n",
    "    print(\"I have a %s.\" % animal)"
   ]
  },
  {
   "cell_type": "markdown",
   "metadata": {
    "slideshow": {
     "slide_type": "subslide"
    }
   },
   "source": [
    "If you have more than one value to put into the string you are composing, you have to pack the values into a tuple:"
   ]
  },
  {
   "cell_type": "code",
   "execution_count": 35,
   "metadata": {
    "collapsed": true,
    "slideshow": {
     "slide_type": "fragment"
    }
   },
   "outputs": [
    {
     "name": "stdout",
     "output_type": "stream",
     "text": [
      "I have a dog, a cat, and a bear.\n"
     ]
    }
   ],
   "source": [
    "animals = ['dog', 'cat', 'bear']\n",
    "print(\"I have a %s, a %s, and a %s.\" % (animals[0], animals[1], animals[2]))"
   ]
  },
  {
   "cell_type": "markdown",
   "metadata": {
    "slideshow": {
     "slide_type": "subslide"
    }
   },
   "source": [
    "### String formatting with numbers\n",
    "\n",
    "If you recall, printing a number with a string can cause an error:"
   ]
  },
  {
   "cell_type": "markdown",
   "metadata": {
    "slideshow": {
     "slide_type": "subslide"
    }
   },
   "source": [
    "The format string `%d` takes care of this for us. Watch how clean this code is:"
   ]
  },
  {
   "cell_type": "code",
   "execution_count": 36,
   "metadata": {
    "collapsed": true,
    "slideshow": {
     "slide_type": "fragment"
    }
   },
   "outputs": [
    {
     "name": "stdout",
     "output_type": "stream",
     "text": [
      "My favorite number is 23.\n"
     ]
    }
   ],
   "source": [
    "number = 23\n",
    "print(\"My favorite number is %d.\" % number)"
   ]
  },
  {
   "cell_type": "markdown",
   "metadata": {
    "slideshow": {
     "slide_type": "subslide"
    }
   },
   "source": [
    "If you want to use a series of numbers, you pack them into a tuple just like we saw with strings:"
   ]
  },
  {
   "cell_type": "code",
   "execution_count": 37,
   "metadata": {
    "collapsed": true,
    "slideshow": {
     "slide_type": "fragment"
    }
   },
   "outputs": [
    {
     "name": "stdout",
     "output_type": "stream",
     "text": [
      "My favorite numbers are 7, 23, and 42.\n"
     ]
    }
   ],
   "source": [
    "numbers = [7, 23, 42]\n",
    "print(\"My favorite numbers are %d, %d, and %d.\" % (numbers[0], numbers[1], numbers[2]))"
   ]
  },
  {
   "cell_type": "markdown",
   "metadata": {
    "slideshow": {
     "slide_type": "subslide"
    }
   },
   "source": [
    "You can mix string and numerical placeholders in any order you want."
   ]
  },
  {
   "cell_type": "code",
   "execution_count": 38,
   "metadata": {
    "collapsed": true,
    "slideshow": {
     "slide_type": "fragment"
    }
   },
   "outputs": [
    {
     "name": "stdout",
     "output_type": "stream",
     "text": [
      "Eric's favorite number is 23, and Ever's favorite number is 2.\n"
     ]
    }
   ],
   "source": [
    "names = ['eric', 'ever']\n",
    "numbers = [23, 2]\n",
    "print(\"%s's favorite number is %d, and %s's favorite number is %d.\" % (names[0].title(), numbers[0], names[1].title(), numbers[1]))"
   ]
  },
  {
   "cell_type": "markdown",
   "metadata": {
    "slideshow": {
     "slide_type": "fragment"
    }
   },
   "source": [
    "There are more sophisticated ways to do string formatting in Python 3, but we will save that for later because it's a bit less intuitive than this approach. For now, you can use whichever approach consistently gets you the output that you want to see."
   ]
  },
  {
   "cell_type": "markdown",
   "metadata": {
    "slideshow": {
     "slide_type": "slide"
    }
   },
   "source": [
    "<a name='tuples_exercises'></a>Exercises\n",
    "---\n",
    "\n",
    "#### Gymnast Scores\n",
    "- A gymnast can earn a score between 1 and 10 from each judge; nothing lower, nothing higher. All scores are integer values; there are no decimal scores from a single judge.\n",
    "- Store the possible scores a gymnast can earn from one judge in a tuple.\n",
    "- Print out the sentence, \"The lowest possible score is \\_\\_\\_, and the highest possible score is \\_\\_\\_.\" Use the values from your tuple.\n",
    "- Print out a series of sentences, \"A judge can give a gymnast ___ points.\"\n",
    "    - Don't worry if your first sentence reads \"A judge can give a gymnast 1 points.\"\n",
    "    - However, you get 1000 bonus internet points if you can use a for loop, and have correct grammar. [hint](#hints_gymnast_scores)\n",
    "\n",
    "#### Revision with Tuples\n",
    "- Choose a program you have already written that uses string concatenation.\n",
    "- Save the program with the same filename, but add *\\_tuple.py* to the end. For example, *gymnast\\_scores.py* becomes *gymnast\\_scores_tuple.py*.\n",
    "- Rewrite your string sections using *%s* and *%d* instead of concatenation.\n",
    "- Repeat this with two other programs you have already written."
   ]
  },
  {
   "cell_type": "code",
   "execution_count": 39,
   "metadata": {
    "collapsed": true,
    "slideshow": {
     "slide_type": "skip"
    }
   },
   "outputs": [],
   "source": [
    "# Ex 3.26 : Gymnast Scores\n",
    "\n",
    "# put your code here"
   ]
  },
  {
   "cell_type": "code",
   "execution_count": 40,
   "metadata": {
    "collapsed": true,
    "slideshow": {
     "slide_type": "skip"
    }
   },
   "outputs": [],
   "source": [
    "# Ex 3.27 : Revision with Tuples\n",
    "\n",
    "# put your code here"
   ]
  },
  {
   "cell_type": "markdown",
   "metadata": {
    "slideshow": {
     "slide_type": "skip"
    }
   },
   "source": [
    "[top](#top)"
   ]
  },
  {
   "cell_type": "markdown",
   "metadata": {},
   "source": [
    "## Tuple as Records & Tuple Unpacking"
   ]
  },
  {
   "cell_type": "markdown",
   "metadata": {},
   "source": [
    "### Tuple as Record"
   ]
  },
  {
   "cell_type": "code",
   "execution_count": 41,
   "metadata": {},
   "outputs": [],
   "source": [
    "lax_coordinates = (33.9425, -118.408056)"
   ]
  },
  {
   "cell_type": "code",
   "execution_count": 42,
   "metadata": {},
   "outputs": [],
   "source": [
    "city, year, pop, chg, area = ('Tokyo', 2003, 32450, 0.66, 8014)"
   ]
  },
  {
   "cell_type": "code",
   "execution_count": 43,
   "metadata": {},
   "outputs": [
    {
     "name": "stdout",
     "output_type": "stream",
     "text": [
      "BRA/CE342567\n",
      "USA/31195855\n"
     ]
    }
   ],
   "source": [
    "traveler_ids = [('USA', '31195855'), ('BRA', 'CE342567')]\n",
    "for passport in sorted(traveler_ids):\n",
    "    print('%s/%s' % passport)"
   ]
  },
  {
   "cell_type": "markdown",
   "metadata": {},
   "source": [
    "### Tuple Unpacking\n",
    "\n",
    "In previous example, we assigned `('Tokyo', 2003, 32450, 0.66, 8014)` to `city`, `year`, `pop`, `chg`, `area` in a single statement. \n",
    "\n",
    "Then, in the last line, the `% operator` assigned each item in the passport tuple to one slot in the format string in the print argument. \n",
    "\n",
    "Those are two examples of **tuple unpacking**."
   ]
  },
  {
   "cell_type": "markdown",
   "metadata": {},
   "source": [
    "#### Multiple Supported Forms of Tuple Unpacking"
   ]
  },
  {
   "cell_type": "code",
   "execution_count": 44,
   "metadata": {},
   "outputs": [
    {
     "name": "stdout",
     "output_type": "stream",
     "text": [
      "1 99\n"
     ]
    }
   ],
   "source": [
    "t = (1, 99)\n",
    "r, d = t\n",
    "print(r, d)"
   ]
  },
  {
   "cell_type": "code",
   "execution_count": 45,
   "metadata": {
    "collapsed": true
   },
   "outputs": [],
   "source": [
    "t = (1, 99, 77, 12.6, 's')\n",
    "r, *rest, v = t"
   ]
  },
  {
   "cell_type": "code",
   "execution_count": 46,
   "metadata": {},
   "outputs": [
    {
     "data": {
      "text/plain": [
       "1"
      ]
     },
     "execution_count": 46,
     "metadata": {},
     "output_type": "execute_result"
    }
   ],
   "source": [
    "r"
   ]
  },
  {
   "cell_type": "code",
   "execution_count": 47,
   "metadata": {},
   "outputs": [
    {
     "data": {
      "text/plain": [
       "'s'"
      ]
     },
     "execution_count": 47,
     "metadata": {},
     "output_type": "execute_result"
    }
   ],
   "source": [
    "v "
   ]
  },
  {
   "cell_type": "code",
   "execution_count": 48,
   "metadata": {},
   "outputs": [
    {
     "data": {
      "text/plain": [
       "[99, 77, 12.6]"
      ]
     },
     "execution_count": 48,
     "metadata": {},
     "output_type": "execute_result"
    }
   ],
   "source": [
    "rest"
   ]
  },
  {
   "cell_type": "code",
   "execution_count": 49,
   "metadata": {
    "collapsed": true
   },
   "outputs": [],
   "source": [
    "v = t[1]"
   ]
  },
  {
   "cell_type": "code",
   "execution_count": 50,
   "metadata": {},
   "outputs": [
    {
     "data": {
      "text/plain": [
       "99"
      ]
     },
     "execution_count": 50,
     "metadata": {},
     "output_type": "execute_result"
    }
   ],
   "source": [
    "v"
   ]
  },
  {
   "cell_type": "code",
   "execution_count": 51,
   "metadata": {
    "collapsed": true
   },
   "outputs": [],
   "source": [
    "_, _, _, *rest = t"
   ]
  },
  {
   "cell_type": "code",
   "execution_count": 52,
   "metadata": {},
   "outputs": [
    {
     "data": {
      "text/plain": [
       "[12.6, 's']"
      ]
     },
     "execution_count": 52,
     "metadata": {},
     "output_type": "execute_result"
    }
   ],
   "source": [
    "rest"
   ]
  },
  {
   "cell_type": "code",
   "execution_count": 53,
   "metadata": {},
   "outputs": [
    {
     "name": "stdout",
     "output_type": "stream",
     "text": [
      "0\n",
      "1\n",
      "2\n",
      "3\n",
      "4\n",
      "5\n",
      "6\n",
      "7\n",
      "8\n",
      "9\n"
     ]
    }
   ],
   "source": [
    "numbers = range(10)\n",
    "for number in numbers:\n",
    "    print(number)"
   ]
  },
  {
   "cell_type": "code",
   "execution_count": 54,
   "metadata": {},
   "outputs": [
    {
     "name": "stdout",
     "output_type": "stream",
     "text": [
      "[0, 2, 4, 6, 8, 10, 12, 14, 16, 18]\n",
      "index:  0  value:  0\n",
      "index:  1  value:  2\n",
      "index:  2  value:  4\n",
      "index:  3  value:  6\n",
      "index:  4  value:  8\n",
      "index:  5  value:  10\n",
      "index:  6  value:  12\n",
      "index:  7  value:  14\n",
      "index:  8  value:  16\n",
      "index:  9  value:  18\n"
     ]
    }
   ],
   "source": [
    "numbers = range(0, 20, 2)\n",
    "print(list(numbers))\n",
    "for item in enumerate(numbers):\n",
    "    index, value = item\n",
    "    print('index: ', index, ' value: ', value )"
   ]
  },
  {
   "cell_type": "code",
   "execution_count": 55,
   "metadata": {},
   "outputs": [
    {
     "name": "stdout",
     "output_type": "stream",
     "text": [
      "index:  0  value:  0\n",
      "index:  1  value:  2\n",
      "index:  2  value:  4\n",
      "index:  3  value:  6\n",
      "index:  4  value:  8\n",
      "index:  5  value:  10\n",
      "index:  6  value:  12\n",
      "index:  7  value:  14\n",
      "index:  8  value:  16\n",
      "index:  9  value:  18\n"
     ]
    }
   ],
   "source": [
    "numbers = range(0, 20, 2)\n",
    "for index, value in enumerate(numbers):\n",
    "    print('index: ', index, ' value: ', value )"
   ]
  },
  {
   "cell_type": "code",
   "execution_count": 56,
   "metadata": {
    "collapsed": true
   },
   "outputs": [
    {
     "name": "stdout",
     "output_type": "stream",
     "text": [
      "1 99.3\n",
      "2 88.9\n",
      "3 79.3\n",
      "4 78.9\n",
      "5 77.5\n",
      "6 69.2\n",
      "7 58.1\n",
      "8 43.3\n",
      "9 38.9\n",
      "10 33.3\n"
     ]
    }
   ],
   "source": [
    "values = [('1', '99.3'), ('2', '88.9'), ('3', '79.3'), ('4', '78.9'), ('5', '77.5'),\n",
    "          ('6', '69.2'), ('7', '58.1'), ('8', '43.3'), ('9', '38.9'), ('10', '33.3')]\n",
    "\n",
    "for ranking, degree in values:\n",
    "    print(int(ranking), float(degree))"
   ]
  },
  {
   "cell_type": "markdown",
   "metadata": {},
   "source": [
    "# Named Tuples"
   ]
  },
  {
   "cell_type": "markdown",
   "metadata": {},
   "source": [
    "The `collections.namedtuple` function is a **factory** that produces subclasses of tuple enhanced with field names and a \n",
    "class name which helps debugging."
   ]
  },
  {
   "cell_type": "code",
   "execution_count": 57,
   "metadata": {},
   "outputs": [],
   "source": [
    "import collections \n",
    "\n",
    "card = collections.namedtuple('Card', ['rank', 'suit'])"
   ]
  },
  {
   "cell_type": "code",
   "execution_count": 58,
   "metadata": {},
   "outputs": [
    {
     "data": {
      "text/plain": [
       "City(name='Tokyo', country='JP', population=36.933, coordinates=(35.689722, 139.691667))"
      ]
     },
     "execution_count": 58,
     "metadata": {},
     "output_type": "execute_result"
    }
   ],
   "source": [
    "## Defining and Using Named Tuples\n",
    "\n",
    "from collections import namedtuple\n",
    "\n",
    "City = namedtuple('City', 'name country population coordinates')\n",
    "tokyo = City('Tokyo', 'JP', 36.933, (35.689722, 139.691667))\n",
    "tokyo"
   ]
  },
  {
   "cell_type": "code",
   "execution_count": 59,
   "metadata": {},
   "outputs": [
    {
     "data": {
      "text/plain": [
       "36.933"
      ]
     },
     "execution_count": 59,
     "metadata": {},
     "output_type": "execute_result"
    }
   ],
   "source": [
    "tokyo.population"
   ]
  },
  {
   "cell_type": "code",
   "execution_count": 60,
   "metadata": {},
   "outputs": [
    {
     "data": {
      "text/plain": [
       "(35.689722, 139.691667)"
      ]
     },
     "execution_count": 60,
     "metadata": {},
     "output_type": "execute_result"
    }
   ],
   "source": [
    "tokyo.coordinates"
   ]
  },
  {
   "cell_type": "code",
   "execution_count": 61,
   "metadata": {},
   "outputs": [
    {
     "data": {
      "text/plain": [
       "'JP'"
      ]
     },
     "execution_count": 61,
     "metadata": {},
     "output_type": "execute_result"
    }
   ],
   "source": [
    "tokyo[1]"
   ]
  },
  {
   "cell_type": "markdown",
   "metadata": {},
   "source": [
    "<a name='sets'></a>Sets\n",
    "===\n",
    "\n",
    "**Sets** are a relatively new addition in the history of Python, and somewhat underused. \n",
    "\n",
    "The `set` type and its immutable sibling `frozenset` first appeared in a module in _Python 2.3_ and were \n",
    "promoted to built-ins in _Python 2.6_.\n",
    "\n",
    "A set object is an unordered collection of distinct hashable objects. Common uses include membership testing, removing duplicates from a sequence, and computing mathematical operations such as intersection, union, difference, and symmetric difference."
   ]
  },
  {
   "cell_type": "code",
   "execution_count": 1,
   "metadata": {
    "collapsed": true
   },
   "outputs": [
    {
     "data": {
      "text/plain": [
       "{'circle', 'square', 'triangle'}"
      ]
     },
     "execution_count": 1,
     "metadata": {},
     "output_type": "execute_result"
    }
   ],
   "source": [
    "shapes = ['circle','square','triangle','circle']\n",
    "set_of_shapes = set(shapes)\n",
    "set_of_shapes"
   ]
  },
  {
   "cell_type": "code",
   "execution_count": 2,
   "metadata": {
    "collapsed": true
   },
   "outputs": [
    {
     "name": "stdout",
     "output_type": "stream",
     "text": [
      "triangle\n",
      "circle\n",
      "square\n"
     ]
    }
   ],
   "source": [
    "shapes = {'circle','square','triangle','circle'}\n",
    "for shape in set_of_shapes:\n",
    "    print(shape)"
   ]
  },
  {
   "cell_type": "code",
   "execution_count": 3,
   "metadata": {
    "collapsed": true
   },
   "outputs": [
    {
     "name": "stdout",
     "output_type": "stream",
     "text": [
      "{'triangle', 'polygon', 'circle', 'square'}\n"
     ]
    }
   ],
   "source": [
    "set_of_shapes.add('polygon') \n",
    "print(set_of_shapes)"
   ]
  },
  {
   "cell_type": "markdown",
   "metadata": {},
   "source": [
    "## Sets vs FrozenSets\n",
    "\n",
    "Set elements **must** be hashable (that is the way to avoid repetitions). \n",
    "\n",
    "The `set` type is **not** hashable, but `frozenset` is, so you can have `frozenset` elements inside a `set`."
   ]
  },
  {
   "cell_type": "code",
   "execution_count": 5,
   "metadata": {},
   "outputs": [],
   "source": [
    "set_with_frozenset = {frozenset([2, 3, 4]), frozenset([4, 5, 6])}"
   ]
  },
  {
   "cell_type": "code",
   "execution_count": 6,
   "metadata": {},
   "outputs": [
    {
     "name": "stdout",
     "output_type": "stream",
     "text": [
      "{frozenset({2, 3, 4}), frozenset({4, 5, 6})}\n"
     ]
    }
   ],
   "source": [
    "print(set_with_frozenset)"
   ]
  },
  {
   "cell_type": "markdown",
   "metadata": {},
   "source": [
    "## Exists (Check)"
   ]
  },
  {
   "cell_type": "code",
   "execution_count": 7,
   "metadata": {
    "collapsed": true
   },
   "outputs": [
    {
     "name": "stdout",
     "output_type": "stream",
     "text": [
      "Circle is in the set:  True\n",
      "Rhombus is in the set: False\n"
     ]
    }
   ],
   "source": [
    "# Test if circle is IN the set (i.e. exist)\n",
    "print('Circle is in the set: ', ('circle' in set_of_shapes))\n",
    "print('Rhombus is in the set:', ('rhombus' in set_of_shapes))"
   ]
  },
  {
   "cell_type": "markdown",
   "metadata": {},
   "source": [
    "## Operations\n",
    "\n",
    "In addition to guaranteeing uniqueness, the set types implement the essential set operations as infix operators, so, given two sets `a` and `b`, `a | b` returns their **union**, `a & b` computes the **intersection**, and `a - b` the **difference**. \n",
    "\n",
    "Smart use of set operations can reduce both the line count and the runtime of Python programs, at the same time making code easier to read and reason about by removing loops and lots of conditional logic.\n"
   ]
  },
  {
   "cell_type": "code",
   "execution_count": 8,
   "metadata": {
    "collapsed": true
   },
   "outputs": [
    {
     "data": {
      "text/plain": [
       "{'circle', 'triangle'}"
      ]
     },
     "execution_count": 8,
     "metadata": {},
     "output_type": "execute_result"
    }
   ],
   "source": [
    "favourites_shapes = set(['circle','triangle','hexagon'])\n",
    "\n",
    "# Intersection\n",
    "set_of_shapes.intersection(favourites_shapes)"
   ]
  },
  {
   "cell_type": "code",
   "execution_count": 11,
   "metadata": {},
   "outputs": [
    {
     "data": {
      "text/plain": [
       "{'circle', 'triangle'}"
      ]
     },
     "execution_count": 11,
     "metadata": {},
     "output_type": "execute_result"
    }
   ],
   "source": [
    "# Equivalently\n",
    "set_of_shapes & favourites_shapes"
   ]
  },
  {
   "cell_type": "code",
   "execution_count": 9,
   "metadata": {
    "collapsed": true
   },
   "outputs": [
    {
     "data": {
      "text/plain": [
       "{'circle', 'hexagon', 'polygon', 'square', 'triangle'}"
      ]
     },
     "execution_count": 9,
     "metadata": {},
     "output_type": "execute_result"
    }
   ],
   "source": [
    "# Union\n",
    "set_of_shapes.union(favourites_shapes)"
   ]
  },
  {
   "cell_type": "code",
   "execution_count": 13,
   "metadata": {},
   "outputs": [
    {
     "data": {
      "text/plain": [
       "{'circle', 'hexagon', 'polygon', 'square', 'triangle'}"
      ]
     },
     "execution_count": 13,
     "metadata": {},
     "output_type": "execute_result"
    }
   ],
   "source": [
    "# Equivalently\n",
    "set_of_shapes | favourites_shapes"
   ]
  },
  {
   "cell_type": "code",
   "execution_count": 10,
   "metadata": {
    "collapsed": true
   },
   "outputs": [
    {
     "data": {
      "text/plain": [
       "{'polygon', 'square'}"
      ]
     },
     "execution_count": 10,
     "metadata": {},
     "output_type": "execute_result"
    }
   ],
   "source": [
    "# Difference\n",
    "set_of_shapes.difference(favourites_shapes)"
   ]
  },
  {
   "cell_type": "code",
   "execution_count": 14,
   "metadata": {},
   "outputs": [
    {
     "data": {
      "text/plain": [
       "{'polygon', 'square'}"
      ]
     },
     "execution_count": 14,
     "metadata": {},
     "output_type": "execute_result"
    }
   ],
   "source": [
    "# Equivalently\n",
    "set_of_shapes - favourites_shapes"
   ]
  }
 ],
 "metadata": {
  "kernelspec": {
   "display_name": "Python [default]",
   "language": "python",
   "name": "python3"
  },
  "language_info": {
   "codemirror_mode": {
    "name": "ipython",
    "version": 3
   },
   "file_extension": ".py",
   "mimetype": "text/x-python",
   "name": "python",
   "nbconvert_exporter": "python",
   "pygments_lexer": "ipython3",
   "version": "3.5.3"
  }
 },
 "nbformat": 4,
 "nbformat_minor": 2
}
